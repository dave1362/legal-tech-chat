{
 "cells": [
  {
   "cell_type": "code",
   "execution_count": 1,
   "id": "f4ee0595-3941-4b7f-ab5a-0bf1d255d342",
   "metadata": {},
   "outputs": [],
   "source": [
    "import asyncio\n",
    "import json\n",
    "import os\n",
    "import re\n",
    "from datetime import datetime, timedelta\n",
    "from typing import List, Optional\n",
    "\n",
    "import isodate\n",
    "import matplotlib.pyplot as plt\n",
    "import pandas as pd\n",
    "import seaborn as sns\n",
    "import tiktoken\n",
    "from langchain_google_genai import ChatGoogleGenerativeAI, GoogleGenerativeAIEmbeddings\n",
    "from langchain_neo4j import Neo4jGraph\n",
    "from pydantic import BaseModel, Field\n",
    "from tqdm import tqdm"
   ]
  },
  {
   "cell_type": "code",
   "execution_count": 2,
   "id": "384ef8ac-aa4e-4837-b152-f991d303f444",
   "metadata": {},
   "outputs": [],
   "source": [
    "os.environ[\"NEO4J_URI\"] = \"bolt://localhost:7687\"\n",
    "os.environ[\"NEO4J_USERNAME\"] = \"neo4j\"\n",
    "os.environ[\"NEO4J_PASSWORD\"] = \"password\"\n",
    "\n",
    "graph = Neo4jGraph(refresh_schema=False)"
   ]
  },
  {
   "cell_type": "code",
   "execution_count": 3,
   "id": "87e46eca-c49f-40bf-9d2b-0cffbe2f9ac0",
   "metadata": {},
   "outputs": [
    {
     "name": "stdin",
     "output_type": "stream",
     "text": [
      "GOOGLE_KEY ········\n"
     ]
    }
   ],
   "source": [
    "import getpass\n",
    "\n",
    "if not os.environ.get(\"GOOGLE_API_KEY\"):\n",
    "    os.environ[\"GOOGLE_API_KEY\"] = getpass.getpass(\"GOOGLE_KEY\")"
   ]
  },
  {
   "cell_type": "code",
   "execution_count": 4,
   "id": "6878e3e3-7466-4c7c-b786-692e599c7463",
   "metadata": {},
   "outputs": [],
   "source": [
    "def read_txt_files(folder_path):\n",
    "    data = []\n",
    "    \n",
    "    # Ensure the folder exists\n",
    "    if not os.path.exists(folder_path):\n",
    "        raise FileNotFoundError(f\"Folder '{folder_path}' not found. Please download the CUAD dataset\"\n",
    "                               \" at https://www.atticusprojectai.org/cuad\"\n",
    "                               )\n",
    "    \n",
    "    for filename in os.listdir(folder_path):\n",
    "        if filename.endswith(\".txt\"):\n",
    "            file_id = os.path.splitext(filename)[0]  # Extract filename without extension\n",
    "            file_path = os.path.join(folder_path, filename)\n",
    "            \n",
    "            with open(file_path, \"r\", encoding=\"utf-8\") as file:\n",
    "                text = file.read()\n",
    "                data.append({\"file_id\": file_id, \"text\": text})\n",
    "    \n",
    "    return data"
   ]
  },
  {
   "cell_type": "code",
   "execution_count": 5,
   "id": "eb829680-65c8-490b-a5ac-2b94ff7039a1",
   "metadata": {},
   "outputs": [],
   "source": [
    "contracts = read_txt_files(\"full_contract_txt\")"
   ]
  },
  {
   "cell_type": "code",
   "execution_count": 6,
   "id": "b03dc31c-acd1-4e92-8c84-dbf07c326bdf",
   "metadata": {},
   "outputs": [],
   "source": [
    "def num_tokens_from_string(string: str, encoding_name: str = \"cl100k_base\") -> int:\n",
    "    \"\"\"Returns the number of tokens in a text string.\"\"\"\n",
    "    encoding = tiktoken.get_encoding(encoding_name)\n",
    "    num_tokens = len(encoding.encode(string))\n",
    "    return num_tokens"
   ]
  },
  {
   "cell_type": "code",
   "execution_count": 7,
   "id": "89be5ae4-469d-4eff-b412-4d6b62ba7eb9",
   "metadata": {},
   "outputs": [],
   "source": [
    "token_count = [num_tokens_from_string(el['text']) for el in contracts]"
   ]
  },
  {
   "cell_type": "code",
   "execution_count": 8,
   "id": "37132251-9340-4b8b-812d-4500ec79a0f5",
   "metadata": {},
   "outputs": [
    {
     "data": {
      "image/png": "[encoded data removed]",
      "text/plain": [
       "<Figure size 640x480 with 1 Axes>"
      ]
     },
     "metadata": {},
     "output_type": "display_data"
    }
   ],
   "source": [
    "sns.histplot(token_count)  \n",
    "plt.title(\"Token Count Distribution\")  \n",
    "plt.xlabel(\"Token Count\")  \n",
    "plt.ylabel(\"Frequency\")  \n",
    "plt.show()"
   ]
  },
  {
   "cell_type": "code",
   "execution_count": 9,
   "id": "aed0da22-876b-4f71-8ced-1220cfe68313",
   "metadata": {},
   "outputs": [],
   "source": [
    "class Location(BaseModel):\n",
    "    \"\"\"\n",
    "    Represents a physical location including address, city, state, and country.\n",
    "    \"\"\"\n",
    "\n",
    "    address: Optional[str] = Field(\n",
    "        ..., description=\"The street address of the location.Use None if not provided\"\n",
    "    )\n",
    "    city: Optional[str] = Field(\n",
    "        ..., description=\"The city of the location.Use None if not provided\"\n",
    "    )\n",
    "    state: Optional[str] = Field(\n",
    "        ..., description=\"The state or region of the location.Use None if not provided\"\n",
    "    )\n",
    "    country: str = Field(\n",
    "        ...,\n",
    "        description=\"The country of the location. Use the two-letter ISO standard.\",\n",
    "    )\n",
    "\n",
    "\n",
    "class Organization(BaseModel):\n",
    "    \"\"\"\n",
    "    Represents an organization, including its name and location.\n",
    "    \"\"\"\n",
    "\n",
    "    name: str = Field(..., description=\"The name of the organization.\")\n",
    "    location: Location = Field(\n",
    "        ..., description=\"The primary location of the organization.\"\n",
    "    )\n",
    "    role: str = Field(\n",
    "        ...,\n",
    "        description=\"The role of the organization in the contract, such as 'provider', 'client', 'supplier', etc.\",\n",
    "    )\n",
    "\n",
    "\n",
    "contract_types = [\n",
    "    \"Affiliate Agreement\" \"Development\",\n",
    "    \"Distributor\",\n",
    "    \"Endorsement\",\n",
    "    \"Franchise\",\n",
    "    \"Hosting\",\n",
    "    \"IP\",\n",
    "    \"Joint Venture\",\n",
    "    \"License Agreement\",\n",
    "    \"Maintenance\",\n",
    "    \"Manufacturing\",\n",
    "    \"Marketing\",\n",
    "    \"Non Compete/Solicit\" \"Outsourcing\",\n",
    "    \"Promotion\",\n",
    "    \"Reseller\",\n",
    "    \"Service\",\n",
    "    \"Sponsorship\",\n",
    "    \"Strategic Alliance\",\n",
    "    \"Supply\",\n",
    "    \"Transportation\",\n",
    "]\n",
    "\n",
    "\n",
    "class Contract(BaseModel):\n",
    "    \"\"\"\n",
    "    Represents the key details of the contract.\n",
    "    \"\"\"\n",
    "\n",
    "    summary: str = Field(\n",
    "        ...,\n",
    "        description=\"High level summary of the contract with relevant facts and details. Include all relevant information to provide full picture.\",\n",
    "    )\n",
    "    contract_type: str = Field(\n",
    "        ...,\n",
    "        description=\"The type of contract being entered into.\",\n",
    "        enum=contract_types,\n",
    "    )\n",
    "    parties: List[Organization] = Field(\n",
    "        ...,\n",
    "        description=\"List of parties involved in the contract, with details of each party's role.\",\n",
    "    )\n",
    "    effective_date: str = Field(\n",
    "        ...,\n",
    "        description=(\n",
    "            \"Enter the date when the contract becomes effective in yyyy-MM-dd format.\"\n",
    "            \"If only the year (e.g., 2015) is known, use 2015-01-01 as the default date.\"\n",
    "            \"Always fill in full date\"\n",
    "        ),\n",
    "    )\n",
    "    contract_scope: str = Field(\n",
    "        ...,\n",
    "        description=\"Description of the scope of the contract, including rights, duties, and any limitations.\",\n",
    "    )\n",
    "    renewal_term: Optional[str] = Field(\n",
    "        None,\n",
    "        description=\"Terms of renewal\",\n",
    "    )\n",
    "    term: Optional[str] = Field(\n",
    "        None,\n",
    "        description=(\n",
    "            \"The duration of the agreement, including provisions for renewal or termination.\"\n",
    "            \"Use ISO 8601 durations standard\"\n",
    "        ),\n",
    "    )\n",
    "\n",
    "    end_date: Optional[str] = Field(\n",
    "        None,\n",
    "        description=(\n",
    "            \"The date when the contract expires. Use yyyy-MM-dd format.\"\n",
    "            \"If only the year (e.g., 2015) is known, use 2015-01-01 as the default date.\"\n",
    "            \"Always fill in full date\"\n",
    "        ),\n",
    "    )\n",
    "    total_amount: Optional[float] = Field(\n",
    "        None, description=\"Total value of the contract.\"\n",
    "    )\n",
    "    governing_law: Optional[Location] = Field(\n",
    "        None, description=\"The jurisdiction's laws governing the contract.\"\n",
    "    )\n"
   ]
  },
  {
   "cell_type": "code",
   "execution_count": 10,
   "id": "dadb7fe8-8d36-4a57-84e9-549e4f327318",
   "metadata": {},
   "outputs": [
    {
     "data": {
      "text/plain": [
       "Contract(summary='This is a ballad about LangChain', contract_type='IP', parties=[Organization(name='Bard', location=Location(address='unknown', city='unknown', state='unknown', country='US'), role='author')], effective_date='2024-01-01', contract_scope='This is a ballad about LangChain', renewal_term=None, term=None, end_date=None, total_amount=None, governing_law=None)"
      ]
     },
     "execution_count": 10,
     "metadata": {},
     "output_type": "execute_result"
    }
   ],
   "source": [
    "llm = ChatGoogleGenerativeAI(model=\"gemini-2.0-flash\")\n",
    "llm.with_structured_output(Contract).invoke(\n",
    "    \"Write me a ballad about LangChain\"\n",
    ")"
   ]
  },
  {
   "cell_type": "code",
   "execution_count": 11,
   "id": "3bba1673-4926-4946-8488-4ca581afda8a",
   "metadata": {},
   "outputs": [
    {
     "data": {
      "text/plain": [
       "[0.014134909026324749,\n",
       " -0.022324152290821075,\n",
       " -0.054603420197963715,\n",
       " -0.006284549366682768,\n",
       " -0.03392402455210686]"
      ]
     },
     "execution_count": 11,
     "metadata": {},
     "output_type": "execute_result"
    }
   ],
   "source": [
    "embeddings = GoogleGenerativeAIEmbeddings(model=\"models/text-embedding-004\")\n",
    "vector = await embeddings.aembed_query(\"hello, world!\")\n",
    "vector[:5]"
   ]
  },
  {
   "cell_type": "code",
   "execution_count": 12,
   "id": "39c01543-4fe1-449e-a546-1489d9450dab",
   "metadata": {},
   "outputs": [],
   "source": [
    "def is_valid_date(date_string):\n",
    "    try:\n",
    "        datetime.strptime(date_string, '%Y-%m-%d')\n",
    "        return True\n",
    "    except:\n",
    "        return False\n",
    "\n",
    "def add_duration_to_date(date_str, duration_str):\n",
    "    \"\"\"\n",
    "    Add an ISO 8601 duration to a date string.\n",
    "    \n",
    "    Args:\n",
    "        date_str (str): Date in format 'YYYY-MM-DD'\n",
    "        duration_str (str): Duration in ISO 8601 format (e.g., 'P1Y2M3DT4H5M6S')\n",
    "    \n",
    "    Returns:\n",
    "        str: Resulting date in format 'YYYY-MM-DD'\n",
    "    \n",
    "    Examples:\n",
    "        >>> add_duration_to_date('2023-01-15', 'P1Y')\n",
    "        '2024-01-15'\n",
    "        >>> add_duration_to_date('2023-01-15', 'P1M')\n",
    "        '2023-02-15'\n",
    "        >>> add_duration_to_date('2023-01-15', 'P10D')\n",
    "        '2023-01-25'\n",
    "    \"\"\"\n",
    "    # Parse the date string\n",
    "    date_obj = datetime.strptime(date_str, \"%Y-%m-%d\")\n",
    "    \n",
    "    # Parse the duration string using isodate\n",
    "    duration = isodate.parse_duration(duration_str)\n",
    "    \n",
    "    # Add the duration to the date\n",
    "    result_date = date_obj + duration\n",
    "    \n",
    "    # Format the result as 'YYYY-MM-DD'\n",
    "    return result_date.strftime(\"%Y-%m-%d\")\n",
    "\n",
    "async def process_contract(contract, semaphore):\n",
    "    async with semaphore:  # This controls access to the resource\n",
    "        structured_data = await llm.with_structured_output(Contract).ainvoke(contract[\"text\"])\n",
    "        try:\n",
    "            structured_data = json.loads(structured_data.model_dump_json())\n",
    "        except: # When LLM breaks\n",
    "            return {\"file_id\": contract[\"file_id\"]}\n",
    "        structured_data[\"file_id\"] = contract[\"file_id\"]\n",
    "        # Clean dates\n",
    "        structured_data[\"effective_date\"] = structured_data[\"effective_date\"] if is_valid_date(structured_data[\"effective_date\"]) else None\n",
    "        structured_data[\"end_date\"] = structured_data[\"end_date\"] if is_valid_date(structured_data[\"end_date\"]) else None\n",
    "\n",
    "        # Infer end date\n",
    "        if not structured_data[\"end_date\"] and (structured_data[\"effective_date\"] and structured_data[\"term\"]):\n",
    "            try:\n",
    "                structured_data[\"end_date\"] = add_duration_to_date(structured_data[\"effective_date\"], structured_data[\"term\"])\n",
    "            except:\n",
    "                pass\n",
    "        return structured_data\n",
    "\n",
    "async def process_all(contracts, max_workers=10):\n",
    "    # Create a semaphore with the desired number of workers\n",
    "    semaphore = asyncio.Semaphore(max_workers)\n",
    "    \n",
    "    # Create tasks with the semaphore\n",
    "    tasks = [process_contract(contract, semaphore) for contract in contracts]\n",
    "    \n",
    "    # Use tqdm with asyncio.as_completed to show progress\n",
    "    results = []\n",
    "    for future in tqdm(asyncio.as_completed(tasks), total=len(tasks), desc=\"Processing contracts\"):\n",
    "        result = await future\n",
    "        results.append(result)\n",
    "    \n",
    "    return results"
   ]
  },
  {
   "cell_type": "code",
   "execution_count": 13,
   "id": "be66fb9d-5ce4-433d-865b-16b585d1a920",
   "metadata": {},
   "outputs": [
    {
     "name": "stderr",
     "output_type": "stream",
     "text": [
      "Processing contracts: 100%|██████████| 510/510 [01:53<00:00,  4.51it/s]\n"
     ]
    },
    {
     "data": {
      "text/plain": [
       "{'summary': 'This Collaborative Development and Commercialization Agreement is for the development and commercialization of a therapeutic drug monitoring assay for the measurement of concentrations of Plazomicin in biological fluids.',\n",
       " 'contract_type': 'Joint Venture',\n",
       " 'parties': [{'name': 'Microgenics Corporation',\n",
       "   'location': {'address': '46500 Kato Road',\n",
       "    'city': 'Fremont',\n",
       "    'state': 'California',\n",
       "    'country': 'US'},\n",
       "   'role': 'provider'},\n",
       "  {'name': 'Achaogen Inc.',\n",
       "   'location': {'address': '7000 Shoreline Court, #371',\n",
       "    'city': 'South San Francisco',\n",
       "    'state': 'California',\n",
       "    'country': 'US'},\n",
       "   'role': 'client'}],\n",
       " 'effective_date': '2016-04-26',\n",
       " 'contract_scope': 'Collaborative development and commercialization of a therapeutic drug monitoring assay for the measurement of concentrations of Plazomicin in biological fluids.',\n",
       " 'renewal_term': None,\n",
       " 'term': None,\n",
       " 'end_date': None,\n",
       " 'total_amount': None,\n",
       " 'governing_law': None,\n",
       " 'file_id': 'Microgenics Corporation - Collaborative Development and Commercialization Agreement'}"
      ]
     },
     "execution_count": 13,
     "metadata": {},
     "output_type": "execute_result"
    }
   ],
   "source": [
    "results = await process_all(contracts)\n",
    "results[0]"
   ]
  },
  {
   "cell_type": "code",
   "execution_count": 14,
   "id": "e7238366-2017-42a2-adcb-73ea0970a8de",
   "metadata": {},
   "outputs": [],
   "source": [
    "with open(\"contract_data.json\", \"w\") as json_file:\n",
    "    json.dump(results, json_file, indent=4)"
   ]
  },
  {
   "cell_type": "code",
   "execution_count": 15,
   "id": "3eb0e13a-05ff-4cb1-9716-c4ef6d2b7d0b",
   "metadata": {},
   "outputs": [
    {
     "data": {
      "text/plain": [
       "[]"
      ]
     },
     "execution_count": 15,
     "metadata": {},
     "output_type": "execute_result"
    }
   ],
   "source": [
    "graph.query(\"CREATE CONSTRAINT IF NOT EXISTS FOR (c:Contract) REQUIRE c.file_id IS UNIQUE;\")\n",
    "graph.query(\"CREATE CONSTRAINT IF NOT EXISTS FOR (c:Party) REQUIRE c.name IS UNIQUE;\")"
   ]
  },
  {
   "cell_type": "code",
   "execution_count": 16,
   "id": "2aec243c-4744-4eb5-9407-5b9e5d6a6ac9",
   "metadata": {},
   "outputs": [],
   "source": [
    "query = \"\"\"UNWIND $data AS row\n",
    "MERGE (c:Contract {file_id: row.file_id})\n",
    "SET c.summary = row.summary,\n",
    "    c.contract_type = row.contract_type,\n",
    "    c.effective_date = date(row.effective_date),\n",
    "    c.contract_scope = row.contract_scope,\n",
    "    c.renewal_term = row.renewal_term,\n",
    "    c.term = row.term,\n",
    "    c.end_date = CASE WHEN row.end_date IS NOT NULL THEN date(row.end_date) ELSE NULL END,\n",
    "    c.total_amount = row.total_amount,\n",
    "    c.governing_law = row.governing_law.country\n",
    "\n",
    "FOREACH (party IN row.parties |\n",
    "    MERGE (p:Party {name: party.name})\n",
    "    MERGE (l:Country {name: party.location.country})\n",
    "    MERGE (p)-[:LOCATED_IN]->(l)\n",
    "    MERGE (p)-[pr:PARTY_TO]->(c)\n",
    "    SET pr.role = party.role\n",
    ")\n",
    "\"\"\""
   ]
  },
  {
   "cell_type": "code",
   "execution_count": 17,
   "id": "45703dc7-11ab-495c-bc0b-1cf0cba16a4e",
   "metadata": {},
   "outputs": [
    {
     "data": {
      "text/plain": [
       "[]"
      ]
     },
     "execution_count": 17,
     "metadata": {},
     "output_type": "execute_result"
    }
   ],
   "source": [
    "graph.query(query, {\"data\": results})"
   ]
  },
  {
   "cell_type": "code",
   "execution_count": 18,
   "id": "30d74781-924c-4289-b217-83da17487b83",
   "metadata": {},
   "outputs": [
    {
     "data": {
      "text/plain": [
       "[]"
      ]
     },
     "execution_count": 18,
     "metadata": {},
     "output_type": "execute_result"
    }
   ],
   "source": [
    "embeddings_output = await embeddings.aembed_documents([el[\"summary\"] for el in results])\n",
    "\n",
    "params = []\n",
    "for embedding, contract in zip(embeddings_output,results):\n",
    "    params.append({\"file_id\": contract[\"file_id\"], \"embedding\": embedding})\n",
    "\n",
    "with open(\"contract_embedding.json\", \"w\") as json_file:\n",
    "    json.dump(params, json_file, indent=4)\n",
    "\n",
    "graph.query(\"\"\"UNWIND $data AS row\n",
    "MATCH (c:Contract {file_id:row.file_id})\n",
    "CALL db.create.setNodeVectorProperty(c, 'embedding', row.embedding)\"\"\", \n",
    "            {\"data\": params})"
   ]
  },
  {
   "cell_type": "code",
   "execution_count": 19,
   "id": "e278c0ad-772c-444a-a4f5-1e8527dbad67",
   "metadata": {},
   "outputs": [
    {
     "data": {
      "text/plain": [
       "[]"
      ]
     },
     "execution_count": 19,
     "metadata": {},
     "output_type": "execute_result"
    }
   ],
   "source": [
    "graph.query(\"CREATE VECTOR INDEX contractSummary IF NOT EXISTS FOR (c:Contract) ON c.embedding\")"
   ]
  },
  {
   "cell_type": "code",
   "execution_count": null,
   "id": "164c15eb-f6f5-4cb1-94f8-dbe84f631a52",
   "metadata": {},
   "outputs": [],
   "source": []
  }
 ],
 "metadata": {
  "kernelspec": {
   "display_name": "Python 3 (ipykernel)",
   "language": "python",
   "name": "python3"
  },
  "language_info": {
   "codemirror_mode": {
    "name": "ipython",
    "version": 3
   },
   "file_extension": ".py",
   "mimetype": "text/x-python",
   "name": "python",
   "nbconvert_exporter": "python",
   "pygments_lexer": "ipython3",
   "version": "3.11.5"
  }
 },
 "nbformat": 4,
 "nbformat_minor": 5
}
