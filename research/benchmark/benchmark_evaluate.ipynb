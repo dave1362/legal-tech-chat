{
 "cells": [
  {
   "cell_type": "code",
   "execution_count": 1,
   "id": "fbfda45c-5378-43d9-9002-c3d74aadd3da",
   "metadata": {},
   "outputs": [],
   "source": [
    "import sys\n",
    "import os\n",
    "\n",
    "# Insert the grandparent directory into sys.path\n",
    "notebook_dir = os.path.dirname(os.path.abspath(\"__file__\"))\n",
    "grandparent_dir = os.path.abspath(os.path.join(notebook_dir, \"..\", \"..\"))\n",
    "sys.path.append(grandparent_dir)"
   ]
  },
  {
   "cell_type": "code",
   "execution_count": 2,
   "id": "dcebfd90-ec4c-4f11-90e3-535717eed9d9",
   "metadata": {},
   "outputs": [
    {
     "data": {
      "text/plain": [
       "True"
      ]
     },
     "execution_count": 2,
     "metadata": {},
     "output_type": "execute_result"
    }
   ],
   "source": [
    "from dotenv import load_dotenv\n",
    "load_dotenv()  # This looks for .env in the current working directory"
   ]
  },
  {
   "cell_type": "code",
   "execution_count": 3,
   "id": "c6b52839-47e0-4256-9938-838662ed25c2",
   "metadata": {},
   "outputs": [
    {
     "name": "stderr",
     "output_type": "stream",
     "text": [
      "/Users/tomazbratanic/anaconda3/envs/madafaka/lib/python3.11/site-packages/tqdm/auto.py:21: TqdmWarning: IProgress not found. Please update jupyter and ipywidgets. See https://ipywidgets.readthedocs.io/en/stable/user_install.html\n",
      "  from .autonotebook import tqdm as notebook_tqdm\n"
     ]
    }
   ],
   "source": [
    "import time\n",
    "from tqdm import tqdm\n",
    "\n",
    "import pandas as pd\n",
    "import seaborn as sns\n",
    "import matplotlib.pyplot as plt\n",
    "from datasets import Dataset\n",
    "from ragas import evaluate\n",
    "from ragas.metrics import (\n",
    "    answer_correctness,\n",
    "    context_recall,\n",
    "    faithfulness\n",
    ")\n",
    "\n",
    "from langchain_core.messages import (\n",
    "    HumanMessage, \n",
    "    ToolMessage, \n",
    "    AIMessage, \n",
    "    ToolMessage\n",
    ")\n",
    "\n",
    "from typing import Any, Tuple"
   ]
  },
  {
   "cell_type": "code",
   "execution_count": 4,
   "id": "0ee729ea-92e0-4d09-91d9-af4c9dadb1fa",
   "metadata": {},
   "outputs": [
    {
     "data": {
      "text/html": [
       "<div>\n",
       "<style scoped>\n",
       "    .dataframe tbody tr th:only-of-type {\n",
       "        vertical-align: middle;\n",
       "    }\n",
       "\n",
       "    .dataframe tbody tr th {\n",
       "        vertical-align: top;\n",
       "    }\n",
       "\n",
       "    .dataframe thead th {\n",
       "        text-align: right;\n",
       "    }\n",
       "</style>\n",
       "<table border=\"1\" class=\"dataframe\">\n",
       "  <thead>\n",
       "    <tr style=\"text-align: right;\">\n",
       "      <th></th>\n",
       "      <th>question</th>\n",
       "      <th>ground_truth</th>\n",
       "    </tr>\n",
       "  </thead>\n",
       "  <tbody>\n",
       "    <tr>\n",
       "      <th>0</th>\n",
       "      <td>What are some contracts that ended after 1990-...</td>\n",
       "      <td>I found 323 contracts that ended after 1990-01...</td>\n",
       "    </tr>\n",
       "    <tr>\n",
       "      <th>1</th>\n",
       "      <td>What are some contracts that ended after 1990-...</td>\n",
       "      <td>There are 52 contracts classified as \"Strategi...</td>\n",
       "    </tr>\n",
       "    <tr>\n",
       "      <th>2</th>\n",
       "      <td>What are some contracts with HC2 Holdings, Inc.?</td>\n",
       "      <td>There is one contract involving HC2 Holdings, ...</td>\n",
       "    </tr>\n",
       "    <tr>\n",
       "      <th>3</th>\n",
       "      <td>Which year was the most contracts signed?</td>\n",
       "      <td>The year with the most contracts signed was 20...</td>\n",
       "    </tr>\n",
       "    <tr>\n",
       "      <th>4</th>\n",
       "      <td>Which Hosting contracts have the highest total...</td>\n",
       "      <td>The Hosting contract with the highest total va...</td>\n",
       "    </tr>\n",
       "  </tbody>\n",
       "</table>\n",
       "</div>"
      ],
      "text/plain": [
       "                                            question  \\\n",
       "0  What are some contracts that ended after 1990-...   \n",
       "1  What are some contracts that ended after 1990-...   \n",
       "2   What are some contracts with HC2 Holdings, Inc.?   \n",
       "3          Which year was the most contracts signed?   \n",
       "4  Which Hosting contracts have the highest total...   \n",
       "\n",
       "                                        ground_truth  \n",
       "0  I found 323 contracts that ended after 1990-01...  \n",
       "1  There are 52 contracts classified as \"Strategi...  \n",
       "2  There is one contract involving HC2 Holdings, ...  \n",
       "3  The year with the most contracts signed was 20...  \n",
       "4  The Hosting contract with the highest total va...  "
      ]
     },
     "execution_count": 4,
     "metadata": {},
     "output_type": "execute_result"
    }
   ],
   "source": [
    "# Benchmark data\n",
    "test_df = pd.read_csv('benchmark.csv', delimiter=\";\")\n",
    "test_df.head()"
   ]
  },
  {
   "cell_type": "code",
   "execution_count": 5,
   "id": "35bc12a9-713f-41bd-932a-813ce4d31f3d",
   "metadata": {},
   "outputs": [],
   "source": [
    "from backend.agent import get_agent"
   ]
  },
  {
   "cell_type": "code",
   "execution_count": 6,
   "id": "39593341-6bf3-4d23-8b60-75663ae2df37",
   "metadata": {},
   "outputs": [],
   "source": [
    "def get_answer(agent: Any, input: str) -> Tuple[str, str, str]:\n",
    "    input_messages = [HumanMessage(content=input)]\n",
    "    messages = agent.invoke({\"messages\": input_messages})\n",
    "    tools = [\n",
    "        m.additional_kwargs.get(\"function_call\")\n",
    "        if m.additional_kwargs.get(\"function_call\")\n",
    "        else m.additional_kwargs.get(\"tool_calls\")\n",
    "        for m in messages[\"messages\"]\n",
    "        if isinstance(m, AIMessage)\n",
    "        and (\n",
    "            m.additional_kwargs.get(\"function_call\")\n",
    "            or m.additional_kwargs.get(\"tool_calls\")\n",
    "        )\n",
    "    ]\n",
    "    context = [m.content for m in messages[\"messages\"] if isinstance(m, ToolMessage)]\n",
    "    answer = messages[\"messages\"][-1].content\n",
    "    return answer, tools, context\n"
   ]
  },
  {
   "cell_type": "code",
   "execution_count": 7,
   "id": "f6144b0e-ab88-4067-8061-d0a43030e0c0",
   "metadata": {},
   "outputs": [],
   "source": [
    "from langchain_google_genai import ChatGoogleGenerativeAI\n",
    "from langchain_openai import ChatOpenAI\n",
    "\n",
    "llms = [\n",
    "    (\"gemini-1.5-pro\", ChatGoogleGenerativeAI(model=\"gemini-1.5-pro\",temperature=0)),\n",
    "    (\"gemini-2.0-flash\", ChatGoogleGenerativeAI(model=\"gemini-2.0-flash\",temperature=0)),\n",
    "    (\"gpt-4o\", ChatOpenAI(model=\"gpt-4o\", temperature=0))\n",
    "]\n"
   ]
  },
  {
   "cell_type": "code",
   "execution_count": 8,
   "id": "ef436794-20e4-4ea7-80a3-f0d7660a3e9a",
   "metadata": {},
   "outputs": [
    {
     "name": "stdout",
     "output_type": "stream",
     "text": [
      "Using LLM: gemini-1.5-pro\n"
     ]
    },
    {
     "name": "stderr",
     "output_type": "stream",
     "text": [
      "Processing questions: 100%|██████████| 22/22 [01:02<00:00,  2.83s/it]\n"
     ]
    },
    {
     "name": "stdout",
     "output_type": "stream",
     "text": [
      "Using LLM: gemini-2.0-flash\n"
     ]
    },
    {
     "name": "stderr",
     "output_type": "stream",
     "text": [
      "Processing questions: 100%|██████████| 22/22 [00:32<00:00,  1.47s/it]\n"
     ]
    },
    {
     "name": "stdout",
     "output_type": "stream",
     "text": [
      "Using LLM: gpt-4o\n"
     ]
    },
    {
     "name": "stderr",
     "output_type": "stream",
     "text": [
      "Processing questions: 100%|██████████| 22/22 [03:08<00:00,  8.55s/it]\n"
     ]
    }
   ],
   "source": [
    "# Get workflows generated answers\n",
    "for llm in llms:\n",
    "    print(f\"Using LLM: {llm[0]}\")\n",
    "    results = []\n",
    "    latencies = []\n",
    "    agent = get_agent(llm[1])\n",
    "    for i, row in tqdm(\n",
    "        test_df.iterrows(), total=len(test_df), desc=\"Processing questions\"\n",
    "    ):\n",
    "        question = row[\"question\"]\n",
    "        start = time.time()\n",
    "        try:\n",
    "            data = get_answer(agent, question)\n",
    "        except Exception as e:\n",
    "            print(e)\n",
    "            data = {\"answer\": \"timeout\", \"question\": question}\n",
    "        end = time.time()\n",
    "        latencies.append(end - start)\n",
    "        results.append(data)\n",
    "\n",
    "    test_df[f\"latencies_{llm[0]}\"] = latencies\n",
    "    test_df[f\"response_{llm[0]}\"] = [el[0] for el in results]\n",
    "    test_df[f\"tools_{llm[0]}\"] = [el[1] for el in results]\n",
    "    test_df[f\"retrieved_contexts_{llm[0]}\"] = [\n",
    "        [str(item) for item in el[2]] for el in results\n",
    "    ]\n"
   ]
  },
  {
   "cell_type": "code",
   "execution_count": 9,
   "id": "0dda2f0b-1a44-4749-bdb6-534946ee0886",
   "metadata": {},
   "outputs": [],
   "source": [
    "from ragas.metrics import AspectCritic\n",
    "\n",
    "# you can init the metric with the evaluator llm\n",
    "answer_satisfaction = AspectCritic(\n",
    "    name=\"answer_satisfaction\",\n",
    "    definition=\"\"\"You will evaluate an ANSWER to a legal QUESTION based on a provided SOLUTION.\n",
    "\n",
    "Rate the answer on a scale from 0 to 1, where:\n",
    "- 0 = incorrect, substantially incomplete, or misleading\n",
    "- 1 = correct and sufficiently complete\n",
    "\n",
    "Consider these evaluation criteria:\n",
    "1. Factual correctness is paramount - the answer must not contradict the solution\n",
    "2. The answer must address the core elements of the solution\n",
    "3. Additional relevant information beyond the solution is acceptable and may enhance the answer\n",
    "4. Technical legal terminology should be used appropriately if present in the solution\n",
    "5. For quantitative legal analyses, accurate figures must be provided\n",
    "\n",
    "### Examples:\n",
    "\n",
    "QUESTION: What is the statute of limitations for breach of contract in California?\n",
    "GROUND_TRUTH: In California, the statute of limitations for written contracts is 4 years, and for oral contracts is 2 years, as specified in California Code of Civil Procedure § 337 and § 339.\n",
    "RESPONSE: California has a 4-year statute of limitations for written contract claims and 2 years for oral contracts.\n",
    "RATING: 1\n",
    "\n",
    "QUESTION: What is required for a valid contract?\n",
    "GROUND_TRUTH: A valid contract requires offer, acceptance, consideration, legal capacity of the parties, legal purpose, and mutual assent (meeting of the minds).\n",
    "RESPONSE: For a contract to be valid, there must be consideration exchanged between the parties.\n",
    "RATING: 0\n",
    "\n",
    "QUESTION: What contracts are governed by US law?\n",
    "GROUND_TRUTH: There are 316 contracts governed by US law\n",
    "RESPONSE: There are 316 contracts governed by US law. Here are a few examples:\\n\\n1. **Remarketing Agreement**:\\n - **Parties**: Nuveen AMT-Free Municipal Credit Income Fund, Nuveen Fund Advisors, LLC, and a Remarketing Agent.\\n - **Type**: Service\\n - **Scope**: Remarketing of Series MuniFund Preferred Shares.\\n - **Effective Date**: January 1, 2024\\n\\n2. **Joint Filing Agreement**:\\n - **Parties**: Multiple parties including Athene Annuity and Life Company, Apollo Insurance Solutions Group...\t\n",
    "RATING: 1\n",
    "\n",
    "QUESTION: What is the total monetary value of all contracts with WebMD, Inc.?\n",
    "GROUND_TRUTH: The total monetary value of all contracts with WebMD, Inc. is $5,000.\t\n",
    "RESPONSE: There is only one contract involving WebMD, Inc., which is a Content License Agreement with Emdeon Corporation. This agreement allows Emdeon to use WebMD's anatomical line drawings in its software and the value is 5000\n",
    "RATINGL 1\"\"\",\n",
    ")"
   ]
  },
  {
   "cell_type": "code",
   "execution_count": 10,
   "id": "a546f89f-bd38-4731-b55d-78b4773d39df",
   "metadata": {},
   "outputs": [],
   "source": [
    "# For Gemini-1.5-pro\n",
    "df_gemini_1_5 = test_df[['question', 'ground_truth', 'response_gemini-1.5-pro', 'retrieved_contexts_gemini-1.5-pro']].copy()\n",
    "df_gemini_1_5 = df_gemini_1_5.rename(columns={'response_gemini-1.5-pro': 'answer'})\n",
    "df_gemini_1_5 = df_gemini_1_5.rename(columns={'retrieved_contexts_gemini-1.5-pro': 'retrieved_contexts'})\n",
    "\n",
    "# For Gemini-2.0-flash\n",
    "df_gemini_2_0 = test_df[['question', 'ground_truth', 'response_gemini-2.0-flash', 'retrieved_contexts_gemini-2.0-flash']].copy()\n",
    "df_gemini_2_0 = df_gemini_2_0.rename(columns={'response_gemini-2.0-flash': 'answer'})\n",
    "df_gemini_2_0 = df_gemini_2_0.rename(columns={'retrieved_contexts_gemini-2.0-flash': 'retrieved_contexts'})\n",
    "\n",
    "\n",
    "df_gpt4o = test_df[['question', 'ground_truth', 'response_gpt-4o', 'retrieved_contexts_gpt-4o']].copy()\n",
    "df_gpt4o = df_gpt4o.rename(columns={'response_gpt-4o': 'answer'})\n",
    "df_gpt4o = df_gpt4o.rename(columns={'retrieved_contexts_gpt-4o': 'retrieved_contexts'})"
   ]
  },
  {
   "cell_type": "code",
   "execution_count": 11,
   "id": "5bb38952-49b2-4575-9856-2457e3857f02",
   "metadata": {},
   "outputs": [
    {
     "name": "stderr",
     "output_type": "stream",
     "text": [
      "Evaluating: 100%|██████████| 88/88 [00:58<00:00,  1.51it/s]\n"
     ]
    },
    {
     "name": "stdout",
     "output_type": "stream",
     "text": [
      "gemini-15-pro: {'answer_correctness': 0.5812, 'context_recall': 0.7424, 'faithfulness': 0.6372, 'answer_satisfaction': 0.7727}\n"
     ]
    },
    {
     "name": "stderr",
     "output_type": "stream",
     "text": [
      "Evaluating: 100%|██████████| 88/88 [00:48<00:00,  1.81it/s]\n"
     ]
    },
    {
     "name": "stdout",
     "output_type": "stream",
     "text": [
      "gemini-20-flash: {'answer_correctness': 0.6554, 'context_recall': 0.6364, 'faithfulness': 0.6500, 'answer_satisfaction': 0.7727}\n"
     ]
    },
    {
     "name": "stderr",
     "output_type": "stream",
     "text": [
      "Evaluating: 100%|██████████| 88/88 [01:22<00:00,  1.06it/s]\n"
     ]
    },
    {
     "name": "stdout",
     "output_type": "stream",
     "text": [
      "gpt-4o: {'answer_correctness': 0.5846, 'context_recall': 0.6818, 'faithfulness': 0.7379, 'answer_satisfaction': 0.8182}\n"
     ]
    }
   ],
   "source": [
    "evals = []\n",
    "for name, df in [(\"gemini-15-pro\", df_gemini_1_5), (\"gemini-20-flash\", df_gemini_2_0), (\"gpt-4o\", df_gpt4o)]:\n",
    "    dataset = Dataset.from_pandas(df)\n",
    "    \n",
    "    result = evaluate(\n",
    "        dataset,\n",
    "        metrics=[\n",
    "            answer_correctness,\n",
    "            context_recall,\n",
    "            faithfulness,\n",
    "            answer_satisfaction\n",
    "        ],\n",
    "    )\n",
    "    print(f\"{name}: {result}\")\n",
    "    e = dict(result._repr_dict.items())\n",
    "    e['llm'] = name\n",
    "    evals.append(e)"
   ]
  },
  {
   "cell_type": "code",
   "execution_count": 12,
   "id": "d3dd677f-5638-4f4c-8046-9f8ba8ab97a4",
   "metadata": {},
   "outputs": [
    {
     "data": {
      "text/html": [
       "\n",
       "<style>\n",
       ".output_png {\n",
       "    display: flex !important;\n",
       "    justify-content: center !important;\n",
       "    max-width: 100% !important;\n",
       "    overflow: hidden !important;\n",
       "}\n",
       ".output_png img {\n",
       "    max-width: 100% !important;\n",
       "    overflow: hidden !important;\n",
       "}\n",
       "</style>\n"
      ],
      "text/plain": [
       "<IPython.core.display.HTML object>"
      ]
     },
     "metadata": {},
     "output_type": "display_data"
    }
   ],
   "source": [
    "from IPython.display import HTML, display\n",
    "\n",
    "# CSS to make image outputs non-scrollable\n",
    "css = \"\"\"\n",
    "<style>\n",
    ".output_png {\n",
    "    display: flex !important;\n",
    "    justify-content: center !important;\n",
    "    max-width: 100% !important;\n",
    "    overflow: hidden !important;\n",
    "}\n",
    ".output_png img {\n",
    "    max-width: 100% !important;\n",
    "    overflow: hidden !important;\n",
    "}\n",
    "</style>\n",
    "\"\"\"\n",
    "display(HTML(css))"
   ]
  },
  {
   "cell_type": "code",
   "execution_count": 13,
   "id": "8c7ce8f9-ba9f-4b63-ad01-cded2bb096d4",
   "metadata": {},
   "outputs": [
    {
     "data": {
      "image/png": "[encoded data removed]",
      "text/plain": [
       "<Figure size 1200x600 with 1 Axes>"
      ]
     },
     "metadata": {},
     "output_type": "display_data"
    }
   ],
   "source": [
    "df = pd.DataFrame(evals)\n",
    "\n",
    "# Reshape the DataFrame for seaborn\n",
    "df_melted = pd.melt(df, \n",
    "                    id_vars=['llm'],\n",
    "                    value_vars=['answer_satisfaction'],\n",
    "                    var_name='Metric', \n",
    "                    value_name='Score')\n",
    "\n",
    "# Create a grouped bar chart\n",
    "plt.figure(figsize=(12, 6))\n",
    "sns.set_style(\"whitegrid\")\n",
    "chart = sns.barplot(x='Metric', y='Score', hue='llm', data=df_melted, palette='viridis')\n",
    "\n",
    "# Customizing the plot\n",
    "plt.title('Performance Comparison Across Different LLMs', fontsize=16)\n",
    "plt.xlabel('Evaluation Metric', fontsize=12)\n",
    "plt.ylabel('Score (0-1)', fontsize=12)\n",
    "plt.ylim(0, 1)  # Set y-axis from 0 to 1\n",
    "plt.xticks(rotation=15)  # Rotate x-axis labels for better readability\n",
    "plt.legend(title='LLM Model', bbox_to_anchor=(1.05, 1), loc='upper left')\n",
    "\n",
    "# Add value labels on top of each bar\n",
    "for bar in chart.patches:\n",
    "    chart.annotate(format(bar.get_height(), '.2f'),\n",
    "                   (bar.get_x() + bar.get_width() / 2, bar.get_height()),\n",
    "                   ha='center', va='bottom',\n",
    "                   size=8, xytext=(0, 3),\n",
    "                   textcoords='offset points')\n",
    "\n",
    "plt.tight_layout()\n",
    "plt.show()"
   ]
  },
  {
   "cell_type": "code",
   "execution_count": null,
   "id": "a6e5dcf6-da15-4dea-afe7-2de7ed135800",
   "metadata": {},
   "outputs": [],
   "source": []
  },
  {
   "cell_type": "code",
   "execution_count": null,
   "id": "f67978b4-5f7a-40b6-befa-cca055c1ae08",
   "metadata": {},
   "outputs": [],
   "source": []
  }
 ],
 "metadata": {
  "kernelspec": {
   "display_name": "Display Name (Python X.X)",
   "language": "python",
   "name": "madafaka"
  },
  "language_info": {
   "codemirror_mode": {
    "name": "ipython",
    "version": 3
   },
   "file_extension": ".py",
   "mimetype": "text/x-python",
   "name": "python",
   "nbconvert_exporter": "python",
   "pygments_lexer": "ipython3",
   "version": "3.11.11"
  }
 },
 "nbformat": 4,
 "nbformat_minor": 5
}
