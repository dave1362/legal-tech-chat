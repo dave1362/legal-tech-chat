{
 "cells": [
  {
   "cell_type": "code",
   "execution_count": 1,
   "id": "1ff5198f-d1d6-4f32-80aa-bcdc9734aee8",
   "metadata": {},
   "outputs": [],
   "source": [
    "import os\n",
    "import json\n",
    "\n",
    "from langchain_neo4j import Neo4jGraph\n",
    "from langchain_google_genai import GoogleGenerativeAIEmbeddings\n"
   ]
  },
  {
   "cell_type": "code",
   "execution_count": 2,
   "id": "e57f81b3-a5b0-406a-8163-eee533e27559",
   "metadata": {},
   "outputs": [],
   "source": [
    "os.environ[\"NEO4J_URI\"] = \"bolt://localhost:7687\"\n",
    "os.environ[\"NEO4J_USERNAME\"] = \"neo4j\"\n",
    "os.environ[\"NEO4J_PASSWORD\"] = \"password\"\n",
    "\n",
    "graph = Neo4jGraph(refresh_schema=False)"
   ]
  },
  {
   "cell_type": "code",
   "execution_count": 3,
   "id": "19001e55-df97-45b0-87d5-6c69033d2388",
   "metadata": {},
   "outputs": [
    {
     "data": {
      "text/plain": [
       "[]"
      ]
     },
     "execution_count": 3,
     "metadata": {},
     "output_type": "execute_result"
    }
   ],
   "source": [
    "graph.query(\"CREATE CONSTRAINT IF NOT EXISTS FOR (c:Contract) REQUIRE c.file_id IS UNIQUE;\")\n",
    "graph.query(\"CREATE CONSTRAINT IF NOT EXISTS FOR (c:Party) REQUIRE c.name IS UNIQUE;\")"
   ]
  },
  {
   "cell_type": "code",
   "execution_count": 4,
   "id": "11d8d6f8-1964-44cb-a740-8a58a572b6fb",
   "metadata": {},
   "outputs": [],
   "source": [
    "query = \"\"\"UNWIND $data AS row\n",
    "MERGE (c:Contract {file_id: row.file_id})\n",
    "SET c.summary = row.summary,\n",
    "    c.contract_type = row.contract_type,\n",
    "    c.effective_date = date(row.effective_date),\n",
    "    c.contract_scope = row.contract_scope,\n",
    "    c.renewal_term = row.renewal_term,\n",
    "    c.term = row.term,\n",
    "    c.end_date = CASE WHEN row.end_date IS NOT NULL THEN date(row.end_date) ELSE NULL END,\n",
    "    c.total_amount = row.total_amount,\n",
    "    c.governing_law = row.governing_law.country\n",
    "\n",
    "FOREACH (party IN row.parties |\n",
    "    MERGE (p:Party {name: party.name})\n",
    "    MERGE (l:Country {name: party.location.country})\n",
    "    MERGE (p)-[:LOCATED_IN]->(l)\n",
    "    MERGE (p)-[pr:PARTY_TO]->(c)\n",
    "    SET pr.role = party.role\n",
    ")\"\"\""
   ]
  },
  {
   "cell_type": "code",
   "execution_count": 5,
   "id": "c465a12b-69ec-4683-9e91-5d2ed96c05c9",
   "metadata": {},
   "outputs": [],
   "source": [
    "with open('contract_data.json', 'r') as file:\n",
    "    results = json.load(file)"
   ]
  },
  {
   "cell_type": "code",
   "execution_count": 6,
   "id": "6048e179-85fc-4863-836a-5144da06b647",
   "metadata": {},
   "outputs": [
    {
     "data": {
      "text/plain": [
       "[]"
      ]
     },
     "execution_count": 6,
     "metadata": {},
     "output_type": "execute_result"
    }
   ],
   "source": [
    "graph.query(query, {\"data\": results})"
   ]
  },
  {
   "cell_type": "code",
   "execution_count": 7,
   "id": "0cf55dd5-e071-4f21-b14a-e001a36c4d3b",
   "metadata": {},
   "outputs": [
    {
     "name": "stdin",
     "output_type": "stream",
     "text": [
      "GOOGLE_KEY ········\n"
     ]
    }
   ],
   "source": [
    "import getpass\n",
    "\n",
    "if not os.environ.get(\"GOOGLE_API_KEY\"):\n",
    "    os.environ[\"GOOGLE_API_KEY\"] = getpass.getpass(\"GOOGLE_KEY\")"
   ]
  },
  {
   "cell_type": "code",
   "execution_count": 8,
   "id": "c101bfd2-a6d7-4101-80b4-6e9df4933a38",
   "metadata": {},
   "outputs": [
    {
     "data": {
      "text/plain": [
       "[]"
      ]
     },
     "execution_count": 8,
     "metadata": {},
     "output_type": "execute_result"
    }
   ],
   "source": [
    "embeddings = GoogleGenerativeAIEmbeddings(model=\"models/text-embedding-004\")\n",
    "embeddings_output = await embeddings.aembed_documents([el[\"summary\"] for el in results])\n",
    "\n",
    "params = []\n",
    "for embedding, contract in zip(embeddings_output,results):\n",
    "    params.append({\"file_id\": contract[\"file_id\"], \"embedding\": embedding})\n",
    "\n",
    "with open(\"contract_embedding.json\", \"w\") as json_file:\n",
    "    json.dump(params, json_file, indent=4)\n",
    "\n",
    "graph.query(\"\"\"UNWIND $data AS row\n",
    "MATCH (c:Contract {file_id:row.file_id})\n",
    "CALL db.create.setNodeVectorProperty(c, 'embedding', row.embedding)\"\"\", \n",
    "            {\"data\": params})"
   ]
  },
  {
   "cell_type": "code",
   "execution_count": 9,
   "id": "c783ff3b-de46-4d58-a9c9-7644a5583bc0",
   "metadata": {},
   "outputs": [
    {
     "data": {
      "text/plain": [
       "[]"
      ]
     },
     "execution_count": 9,
     "metadata": {},
     "output_type": "execute_result"
    }
   ],
   "source": [
    "graph.query(\"CREATE VECTOR INDEX contractSummary IF NOT EXISTS FOR (c:Contract) ON c.embedding\")"
   ]
  },
  {
   "cell_type": "code",
   "execution_count": null,
   "id": "82a35040-b2a0-4f8c-930c-5c3a58fbdb37",
   "metadata": {},
   "outputs": [],
   "source": []
  }
 ],
 "metadata": {
  "kernelspec": {
   "display_name": "Python 3 (ipykernel)",
   "language": "python",
   "name": "python3"
  },
  "language_info": {
   "codemirror_mode": {
    "name": "ipython",
    "version": 3
   },
   "file_extension": ".py",
   "mimetype": "text/x-python",
   "name": "python",
   "nbconvert_exporter": "python",
   "pygments_lexer": "ipython3",
   "version": "3.11.5"
  }
 },
 "nbformat": 4,
 "nbformat_minor": 5
}
