{
 "cells": [
  {
   "cell_type": "code",
   "execution_count": 1,
   "id": "fbfda45c-5378-43d9-9002-c3d74aadd3da",
   "metadata": {},
   "outputs": [],
   "source": [
    "import sys\n",
    "import os\n",
    "\n",
    "# Insert the parent directory of \"app\" into sys.path\n",
    "# so that Python recognizes \"app\" as an importable package.\n",
    "notebook_dir = os.path.dirname(os.path.abspath(\"__file__\"))\n",
    "parent_dir = os.path.abspath(os.path.join(notebook_dir, \"..\"))\n",
    "sys.path.append(parent_dir)"
   ]
  },
  {
   "cell_type": "code",
   "execution_count": 2,
   "id": "dcebfd90-ec4c-4f11-90e3-535717eed9d9",
   "metadata": {},
   "outputs": [
    {
     "data": {
      "text/plain": [
       "True"
      ]
     },
     "execution_count": 2,
     "metadata": {},
     "output_type": "execute_result"
    }
   ],
   "source": [
    "from dotenv import load_dotenv\n",
    "load_dotenv()  # This looks for .env in the current working directory"
   ]
  },
  {
   "cell_type": "code",
   "execution_count": 3,
   "id": "c6b52839-47e0-4256-9938-838662ed25c2",
   "metadata": {},
   "outputs": [],
   "source": [
    "import time\n",
    "\n",
    "import pandas as pd\n",
    "import seaborn as sns\n",
    "from datasets import Dataset\n",
    "from ragas import evaluate\n",
    "from ragas.metrics import (\n",
    "    answer_correctness,\n",
    ")"
   ]
  },
  {
   "cell_type": "code",
   "execution_count": 4,
   "id": "0ee729ea-92e0-4d09-91d9-af4c9dadb1fa",
   "metadata": {},
   "outputs": [
    {
     "data": {
      "text/html": [
       "<div>\n",
       "<style scoped>\n",
       "    .dataframe tbody tr th:only-of-type {\n",
       "        vertical-align: middle;\n",
       "    }\n",
       "\n",
       "    .dataframe tbody tr th {\n",
       "        vertical-align: top;\n",
       "    }\n",
       "\n",
       "    .dataframe thead th {\n",
       "        text-align: right;\n",
       "    }\n",
       "</style>\n",
       "<table border=\"1\" class=\"dataframe\">\n",
       "  <thead>\n",
       "    <tr style=\"text-align: right;\">\n",
       "      <th></th>\n",
       "      <th>Question</th>\n",
       "      <th>Answer</th>\n",
       "    </tr>\n",
       "  </thead>\n",
       "  <tbody>\n",
       "    <tr>\n",
       "      <th>0</th>\n",
       "      <td>What are some contracts that ended after 1990-...</td>\n",
       "      <td>There are a total of 377 contracts that ended ...</td>\n",
       "    </tr>\n",
       "    <tr>\n",
       "      <th>1</th>\n",
       "      <td>What are some contracts that ended after 1990-...</td>\n",
       "      <td>There are 48 contracts classified as \"Strategi...</td>\n",
       "    </tr>\n",
       "    <tr>\n",
       "      <th>2</th>\n",
       "      <td>What are some contracts with HC2 Holdings, Inc.?</td>\n",
       "      <td>There is one contract involving HC2 Holdings, ...</td>\n",
       "    </tr>\n",
       "    <tr>\n",
       "      <th>3</th>\n",
       "      <td>Which year was the most contracts signed?</td>\n",
       "      <td>The year with the most contracts signed was 20...</td>\n",
       "    </tr>\n",
       "    <tr>\n",
       "      <th>4</th>\n",
       "      <td>Which company has the most active contracts?</td>\n",
       "      <td>The company with the most active contracts is ...</td>\n",
       "    </tr>\n",
       "  </tbody>\n",
       "</table>\n",
       "</div>"
      ],
      "text/plain": [
       "                                            Question  \\\n",
       "0  What are some contracts that ended after 1990-...   \n",
       "1  What are some contracts that ended after 1990-...   \n",
       "2   What are some contracts with HC2 Holdings, Inc.?   \n",
       "3          Which year was the most contracts signed?   \n",
       "4       Which company has the most active contracts?   \n",
       "\n",
       "                                              Answer  \n",
       "0  There are a total of 377 contracts that ended ...  \n",
       "1  There are 48 contracts classified as \"Strategi...  \n",
       "2  There is one contract involving HC2 Holdings, ...  \n",
       "3  The year with the most contracts signed was 20...  \n",
       "4  The company with the most active contracts is ...  "
      ]
     },
     "execution_count": 4,
     "metadata": {},
     "output_type": "execute_result"
    }
   ],
   "source": [
    "# Benchmark data\n",
    "test_df = pd.read_csv('benchmark.csv', delimiter=\";\")\n",
    "test_df.head()"
   ]
  },
  {
   "cell_type": "code",
   "execution_count": 5,
   "id": "35bc12a9-713f-41bd-932a-813ce4d31f3d",
   "metadata": {},
   "outputs": [],
   "source": [
    "from backend.src.agent import get_agent"
   ]
  },
  {
   "cell_type": "code",
   "execution_count": 6,
   "id": "3a59b576-6739-4dac-a5c3-172d0822327b",
   "metadata": {},
   "outputs": [],
   "source": [
    "agent = get_agent()"
   ]
  },
  {
   "cell_type": "code",
   "execution_count": 7,
   "id": "8cedb58b-096b-46dd-ad01-3528d2dec304",
   "metadata": {},
   "outputs": [
    {
     "name": "stdout",
     "output_type": "stream",
     "text": [
      "================================\u001b[1m Human Message \u001b[0m=================================\n",
      "\n",
      "Which year was the most contracts signed?\n",
      "==================================\u001b[1m Ai Message \u001b[0m==================================\n",
      "Tool Calls:\n",
      "  ContractSearch (d3bf3576-c229-4029-90ea-a34c3e1a6fe3)\n",
      " Call ID: d3bf3576-c229-4029-90ea-a34c3e1a6fe3\n",
      "  Args:\n",
      "    cypher_aggregation: RETURN effective_date.year AS year, count(*) AS count ORDER BY year\n",
      "=================================\u001b[1m Tool Message \u001b[0m=================================\n",
      "Name: ContractSearch\n",
      "\n",
      "[{\"year\": 1900, \"count\": 2}, {\"year\": 1990, \"count\": 1}, {\"year\": 1992, \"count\": 1}, {\"year\": 1993, \"count\": 1}, {\"year\": 1994, \"count\": 1}, {\"year\": 1995, \"count\": 2}, {\"year\": 1996, \"count\": 12}, {\"year\": 1997, \"count\": 10}, {\"year\": 1998, \"count\": 20}, {\"year\": 1999, \"count\": 26}, {\"year\": 2000, \"count\": 24}, {\"year\": 2001, \"count\": 8}, {\"year\": 2002, \"count\": 8}, {\"year\": 2003, \"count\": 11}, {\"year\": 2004, \"count\": 14}, {\"year\": 2005, \"count\": 20}, {\"year\": 2006, \"count\": 16}, {\"year\": 2007, \"count\": 13}, {\"year\": 2008, \"count\": 8}, {\"year\": 2009, \"count\": 15}, {\"year\": 2010, \"count\": 15}, {\"year\": 2011, \"count\": 12}, {\"year\": 2012, \"count\": 15}, {\"year\": 2013, \"count\": 11}, {\"year\": 2014, \"count\": 20}, {\"year\": 2015, \"count\": 29}, {\"year\": 2016, \"count\": 20}, {\"year\": 2017, \"count\": 24}, {\"year\": 2018, \"count\": 50}, {\"year\": 2019, \"count\": 49}, {\"year\": 2020, \"count\": 50}, {\"year\": 2023, \"count\": 1}, {\"year\": 2024, \"count\": 1}]\n",
      "==================================\u001b[1m Ai Message \u001b[0m==================================\n",
      "\n",
      "The year with the most contracts signed was 2018 and 2020, with 50 contracts each.\n"
     ]
    }
   ],
   "source": [
    "from langchain_core.messages import HumanMessage\n",
    "\n",
    "input_messages = [HumanMessage(content=\"Which year was the most contracts signed?\")]\n",
    "messages = agent.invoke({\"messages\": input_messages})\n",
    "for m in messages[\"messages\"]:\n",
    "    m.pretty_print()"
   ]
  },
  {
   "cell_type": "code",
   "execution_count": 8,
   "id": "06c0e3ca-b70f-4f85-b686-657cb3a07273",
   "metadata": {},
   "outputs": [
    {
     "data": {
      "text/plain": [
       "{'messages': [HumanMessage(content='Which year was the most contracts signed?', additional_kwargs={}, response_metadata={}, id='960fdae6-09b1-40e1-89cf-f28f584dd9e2'),\n",
       "  AIMessage(content='', additional_kwargs={'function_call': {'name': 'ContractSearch', 'arguments': '{\"cypher_aggregation\": \"RETURN effective_date.year AS year, count(*) AS count ORDER BY year\"}'}}, response_metadata={'prompt_feedback': {'block_reason': 0, 'safety_ratings': []}, 'finish_reason': 'STOP', 'safety_ratings': []}, id='run-e4b81e4c-f5e9-4c1e-84ba-123298133a2a-0', tool_calls=[{'name': 'ContractSearch', 'args': {'cypher_aggregation': 'RETURN effective_date.year AS year, count(*) AS count ORDER BY year'}, 'id': 'd3bf3576-c229-4029-90ea-a34c3e1a6fe3', 'type': 'tool_call'}], usage_metadata={'input_tokens': 532, 'output_tokens': 22, 'total_tokens': 554, 'input_token_details': {'cache_read': 0}}),\n",
       "  ToolMessage(content='[{\"year\": 1900, \"count\": 2}, {\"year\": 1990, \"count\": 1}, {\"year\": 1992, \"count\": 1}, {\"year\": 1993, \"count\": 1}, {\"year\": 1994, \"count\": 1}, {\"year\": 1995, \"count\": 2}, {\"year\": 1996, \"count\": 12}, {\"year\": 1997, \"count\": 10}, {\"year\": 1998, \"count\": 20}, {\"year\": 1999, \"count\": 26}, {\"year\": 2000, \"count\": 24}, {\"year\": 2001, \"count\": 8}, {\"year\": 2002, \"count\": 8}, {\"year\": 2003, \"count\": 11}, {\"year\": 2004, \"count\": 14}, {\"year\": 2005, \"count\": 20}, {\"year\": 2006, \"count\": 16}, {\"year\": 2007, \"count\": 13}, {\"year\": 2008, \"count\": 8}, {\"year\": 2009, \"count\": 15}, {\"year\": 2010, \"count\": 15}, {\"year\": 2011, \"count\": 12}, {\"year\": 2012, \"count\": 15}, {\"year\": 2013, \"count\": 11}, {\"year\": 2014, \"count\": 20}, {\"year\": 2015, \"count\": 29}, {\"year\": 2016, \"count\": 20}, {\"year\": 2017, \"count\": 24}, {\"year\": 2018, \"count\": 50}, {\"year\": 2019, \"count\": 49}, {\"year\": 2020, \"count\": 50}, {\"year\": 2023, \"count\": 1}, {\"year\": 2024, \"count\": 1}]', name='ContractSearch', id='8a7575d2-4977-41ad-8cd3-f5308117ec1e', tool_call_id='d3bf3576-c229-4029-90ea-a34c3e1a6fe3'),\n",
       "  AIMessage(content='The year with the most contracts signed was 2018 and 2020, with 50 contracts each.', additional_kwargs={}, response_metadata={'prompt_feedback': {'block_reason': 0, 'safety_ratings': []}, 'finish_reason': 'STOP', 'safety_ratings': []}, id='run-443419db-058c-45e5-83d3-e62672089256-0', usage_metadata={'input_tokens': 623, 'output_tokens': 27, 'total_tokens': 650, 'input_token_details': {'cache_read': 0}})]}"
      ]
     },
     "execution_count": 8,
     "metadata": {},
     "output_type": "execute_result"
    }
   ],
   "source": [
    "# History\n",
    "messages"
   ]
  },
  {
   "cell_type": "code",
   "execution_count": 9,
   "id": "b3a59a11-8a46-40f1-a76f-896fb723a1dc",
   "metadata": {},
   "outputs": [
    {
     "name": "stdout",
     "output_type": "stream",
     "text": [
      "================================\u001b[1m Human Message \u001b[0m=================================\n",
      "\n",
      "Which year was the most contracts signed?\n",
      "==================================\u001b[1m Ai Message \u001b[0m==================================\n",
      "Tool Calls:\n",
      "  ContractSearch (d3bf3576-c229-4029-90ea-a34c3e1a6fe3)\n",
      " Call ID: d3bf3576-c229-4029-90ea-a34c3e1a6fe3\n",
      "  Args:\n",
      "    cypher_aggregation: RETURN effective_date.year AS year, count(*) AS count ORDER BY year\n",
      "=================================\u001b[1m Tool Message \u001b[0m=================================\n",
      "Name: ContractSearch\n",
      "\n",
      "[{\"year\": 1900, \"count\": 2}, {\"year\": 1990, \"count\": 1}, {\"year\": 1992, \"count\": 1}, {\"year\": 1993, \"count\": 1}, {\"year\": 1994, \"count\": 1}, {\"year\": 1995, \"count\": 2}, {\"year\": 1996, \"count\": 12}, {\"year\": 1997, \"count\": 10}, {\"year\": 1998, \"count\": 20}, {\"year\": 1999, \"count\": 26}, {\"year\": 2000, \"count\": 24}, {\"year\": 2001, \"count\": 8}, {\"year\": 2002, \"count\": 8}, {\"year\": 2003, \"count\": 11}, {\"year\": 2004, \"count\": 14}, {\"year\": 2005, \"count\": 20}, {\"year\": 2006, \"count\": 16}, {\"year\": 2007, \"count\": 13}, {\"year\": 2008, \"count\": 8}, {\"year\": 2009, \"count\": 15}, {\"year\": 2010, \"count\": 15}, {\"year\": 2011, \"count\": 12}, {\"year\": 2012, \"count\": 15}, {\"year\": 2013, \"count\": 11}, {\"year\": 2014, \"count\": 20}, {\"year\": 2015, \"count\": 29}, {\"year\": 2016, \"count\": 20}, {\"year\": 2017, \"count\": 24}, {\"year\": 2018, \"count\": 50}, {\"year\": 2019, \"count\": 49}, {\"year\": 2020, \"count\": 50}, {\"year\": 2023, \"count\": 1}, {\"year\": 2024, \"count\": 1}]\n",
      "==================================\u001b[1m Ai Message \u001b[0m==================================\n",
      "\n",
      "The year with the most contracts signed was 2018 and 2020, with 50 contracts each.\n",
      "================================\u001b[1m Human Message \u001b[0m=================================\n",
      "\n",
      "Which party has the most active contracts?\n",
      "==================================\u001b[1m Ai Message \u001b[0m==================================\n",
      "Tool Calls:\n",
      "  ContractSearch (83b27d57-bb76-4ed4-8676-e08583be6851)\n",
      " Call ID: 83b27d57-bb76-4ed4-8676-e08583be6851\n",
      "  Args:\n",
      "    active: True\n",
      "    cypher_aggregation: UNWIND parties AS party WITH party, active, count(*) AS contract_count RETURN party, contract_count ORDER BY contract_count DESC LIMIT 1\n",
      "=================================\u001b[1m Tool Message \u001b[0m=================================\n",
      "Name: ContractSearch\n",
      "\n",
      "[{\"party\": \"HOF Village, LLC\", \"contract_count\": 2}]\n",
      "==================================\u001b[1m Ai Message \u001b[0m==================================\n",
      "\n",
      "The party with the most active contracts is HOF Village, LLC, with 2 active contracts.\n"
     ]
    }
   ],
   "source": [
    "# Chat with history\n",
    "\n",
    "input_messages = messages['messages'] + [HumanMessage(content=\"Which party has the most active contracts?\")]\n",
    "messages = agent.invoke({\"messages\": input_messages})\n",
    "for m in messages[\"messages\"]:\n",
    "    m.pretty_print()"
   ]
  },
  {
   "cell_type": "code",
   "execution_count": null,
   "id": "39593341-6bf3-4d23-8b60-75663ae2df37",
   "metadata": {},
   "outputs": [],
   "source": []
  }
 ],
 "metadata": {
  "kernelspec": {
   "display_name": "Python 3 (ipykernel)",
   "language": "python",
   "name": "python3"
  },
  "language_info": {
   "codemirror_mode": {
    "name": "ipython",
    "version": 3
   },
   "file_extension": ".py",
   "mimetype": "text/x-python",
   "name": "python",
   "nbconvert_exporter": "python",
   "pygments_lexer": "ipython3",
   "version": "3.11.5"
  }
 },
 "nbformat": 4,
 "nbformat_minor": 5
}
