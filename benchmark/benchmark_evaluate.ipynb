{
 "cells": [
  {
   "cell_type": "code",
   "execution_count": null,
   "id": "fbfda45c-5378-43d9-9002-c3d74aadd3da",
   "metadata": {},
   "outputs": [],
   "source": [
    "import sys\n",
    "import os\n",
    "\n",
    "# Insert the parent directory of \"app\" into sys.path\n",
    "# so that Python recognizes \"app\" as an importable package.\n",
    "notebook_dir = os.path.dirname(os.path.abspath(\"__file__\"))\n",
    "parent_dir = os.path.abspath(os.path.join(notebook_dir, \"..\"))\n",
    "sys.path.append(parent_dir)"
   ]
  },
  {
   "cell_type": "code",
   "execution_count": null,
   "id": "dcebfd90-ec4c-4f11-90e3-535717eed9d9",
   "metadata": {},
   "outputs": [],
   "source": [
    "from dotenv import load_dotenv\n",
    "load_dotenv()  # This looks for .env in the current working directory"
   ]
  },
  {
   "cell_type": "code",
   "execution_count": 3,
   "id": "c6b52839-47e0-4256-9938-838662ed25c2",
   "metadata": {},
   "outputs": [],
   "source": [
    "import time\n",
    "\n",
    "import pandas as pd\n",
    "import seaborn as sns\n",
    "from datasets import Dataset\n",
    "from ragas import evaluate\n",
    "from ragas.metrics import (\n",
    "    answer_correctness,\n",
    ")"
   ]
  },
  {
   "cell_type": "code",
   "execution_count": 4,
   "id": "0ee729ea-92e0-4d09-91d9-af4c9dadb1fa",
   "metadata": {},
   "outputs": [
    {
     "data": {
      "text/html": [
       "<div>\n",
       "<style scoped>\n",
       "    .dataframe tbody tr th:only-of-type {\n",
       "        vertical-align: middle;\n",
       "    }\n",
       "\n",
       "    .dataframe tbody tr th {\n",
       "        vertical-align: top;\n",
       "    }\n",
       "\n",
       "    .dataframe thead th {\n",
       "        text-align: right;\n",
       "    }\n",
       "</style>\n",
       "<table border=\"1\" class=\"dataframe\">\n",
       "  <thead>\n",
       "    <tr style=\"text-align: right;\">\n",
       "      <th></th>\n",
       "      <th>question</th>\n",
       "      <th>ground_truth</th>\n",
       "    </tr>\n",
       "  </thead>\n",
       "  <tbody>\n",
       "    <tr>\n",
       "      <th>0</th>\n",
       "      <td>What are some contracts that ended after 1990-...</td>\n",
       "      <td>There are a total of 377 contracts that ended ...</td>\n",
       "    </tr>\n",
       "    <tr>\n",
       "      <th>1</th>\n",
       "      <td>What are some contracts that ended after 1990-...</td>\n",
       "      <td>There are 48 contracts classified as \"Strategi...</td>\n",
       "    </tr>\n",
       "    <tr>\n",
       "      <th>2</th>\n",
       "      <td>What are some contracts with HC2 Holdings, Inc.?</td>\n",
       "      <td>There is one contract involving HC2 Holdings, ...</td>\n",
       "    </tr>\n",
       "    <tr>\n",
       "      <th>3</th>\n",
       "      <td>Which year was the most contracts signed?</td>\n",
       "      <td>The year with the most contracts signed was 20...</td>\n",
       "    </tr>\n",
       "    <tr>\n",
       "      <th>4</th>\n",
       "      <td>Which company has the most active contracts?</td>\n",
       "      <td>The company with the most active contracts is ...</td>\n",
       "    </tr>\n",
       "  </tbody>\n",
       "</table>\n",
       "</div>"
      ],
      "text/plain": [
       "                                            question  \\\n",
       "0  What are some contracts that ended after 1990-...   \n",
       "1  What are some contracts that ended after 1990-...   \n",
       "2   What are some contracts with HC2 Holdings, Inc.?   \n",
       "3          Which year was the most contracts signed?   \n",
       "4       Which company has the most active contracts?   \n",
       "\n",
       "                                        ground_truth  \n",
       "0  There are a total of 377 contracts that ended ...  \n",
       "1  There are 48 contracts classified as \"Strategi...  \n",
       "2  There is one contract involving HC2 Holdings, ...  \n",
       "3  The year with the most contracts signed was 20...  \n",
       "4  The company with the most active contracts is ...  "
      ]
     },
     "execution_count": 4,
     "metadata": {},
     "output_type": "execute_result"
    }
   ],
   "source": [
    "# Benchmark data\n",
    "test_df = pd.read_csv('benchmark.csv', delimiter=\";\")\n",
    "test_df.head()"
   ]
  },
  {
   "cell_type": "code",
   "execution_count": 5,
   "id": "35bc12a9-713f-41bd-932a-813ce4d31f3d",
   "metadata": {},
   "outputs": [],
   "source": [
    "from backend.src.agent import get_agent"
   ]
  },
  {
   "cell_type": "code",
   "execution_count": 6,
   "id": "3a59b576-6739-4dac-a5c3-172d0822327b",
   "metadata": {},
   "outputs": [],
   "source": [
    "agent = get_agent()"
   ]
  },
  {
   "cell_type": "code",
   "execution_count": 7,
   "id": "8cedb58b-096b-46dd-ad01-3528d2dec304",
   "metadata": {},
   "outputs": [
    {
     "name": "stdout",
     "output_type": "stream",
     "text": [
      "================================\u001b[1m Human Message \u001b[0m=================================\n",
      "\n",
      "Which year was the most contracts signed?\n",
      "==================================\u001b[1m Ai Message \u001b[0m==================================\n",
      "Tool Calls:\n",
      "  ContractSearch (849649ec-8886-45c1-93c0-a2edd53938ec)\n",
      " Call ID: 849649ec-8886-45c1-93c0-a2edd53938ec\n",
      "  Args:\n",
      "    cypher_aggregation: RETURN effective_date.year AS year, count(*) AS count ORDER BY year DESC LIMIT 1\n",
      "=================================\u001b[1m Tool Message \u001b[0m=================================\n",
      "Name: ContractSearch\n",
      "\n",
      "[{\"year\": 2024, \"count\": 1}]\n",
      "==================================\u001b[1m Ai Message \u001b[0m==================================\n",
      "\n",
      "In 2024, the most contracts were signed, with a total of 1 contract.\n"
     ]
    }
   ],
   "source": [
    "from langchain_core.messages import HumanMessage\n",
    "\n",
    "input_messages = [HumanMessage(content=\"Which year was the most contracts signed?\")]\n",
    "messages = agent.invoke({\"messages\": input_messages})\n",
    "for m in messages[\"messages\"]:\n",
    "    m.pretty_print()"
   ]
  },
  {
   "cell_type": "code",
   "execution_count": 8,
   "id": "06c0e3ca-b70f-4f85-b686-657cb3a07273",
   "metadata": {},
   "outputs": [
    {
     "data": {
      "text/plain": [
       "{'messages': [HumanMessage(content='Which year was the most contracts signed?', additional_kwargs={}, response_metadata={}, id='90697b7d-fcf8-4b9f-acab-11f061715877'),\n",
       "  AIMessage(content='', additional_kwargs={'function_call': {'name': 'ContractSearch', 'arguments': '{\"cypher_aggregation\": \"RETURN effective_date.year AS year, count(*) AS count ORDER BY year DESC LIMIT 1\"}'}}, response_metadata={'prompt_feedback': {'block_reason': 0, 'safety_ratings': []}, 'finish_reason': 'STOP', 'safety_ratings': []}, id='run-d89ed9ac-331a-4b1f-9c39-a22abb2746f8-0', tool_calls=[{'name': 'ContractSearch', 'args': {'cypher_aggregation': 'RETURN effective_date.year AS year, count(*) AS count ORDER BY year DESC LIMIT 1'}, 'id': '849649ec-8886-45c1-93c0-a2edd53938ec', 'type': 'tool_call'}], usage_metadata={'input_tokens': 532, 'output_tokens': 26, 'total_tokens': 558, 'input_token_details': {'cache_read': 0}}),\n",
       "  ToolMessage(content='[{\"year\": 2024, \"count\": 1}]', name='ContractSearch', id='2ab2fed0-7041-45cc-87e2-ed2790260db9', tool_call_id='849649ec-8886-45c1-93c0-a2edd53938ec'),\n",
       "  AIMessage(content='In 2024, the most contracts were signed, with a total of 1 contract.', additional_kwargs={}, response_metadata={'prompt_feedback': {'block_reason': 0, 'safety_ratings': []}, 'finish_reason': 'STOP', 'safety_ratings': []}, id='run-9068e0c7-f435-4b81-bebe-da6027fd46f4-0', usage_metadata={'input_tokens': 563, 'output_tokens': 22, 'total_tokens': 585, 'input_token_details': {'cache_read': 0}})]}"
      ]
     },
     "execution_count": 8,
     "metadata": {},
     "output_type": "execute_result"
    }
   ],
   "source": [
    "# History\n",
    "messages"
   ]
  },
  {
   "cell_type": "code",
   "execution_count": 9,
   "id": "b3a59a11-8a46-40f1-a76f-896fb723a1dc",
   "metadata": {},
   "outputs": [
    {
     "name": "stdout",
     "output_type": "stream",
     "text": [
      "================================\u001b[1m Human Message \u001b[0m=================================\n",
      "\n",
      "Which year was the most contracts signed?\n",
      "==================================\u001b[1m Ai Message \u001b[0m==================================\n",
      "Tool Calls:\n",
      "  ContractSearch (849649ec-8886-45c1-93c0-a2edd53938ec)\n",
      " Call ID: 849649ec-8886-45c1-93c0-a2edd53938ec\n",
      "  Args:\n",
      "    cypher_aggregation: RETURN effective_date.year AS year, count(*) AS count ORDER BY year DESC LIMIT 1\n",
      "=================================\u001b[1m Tool Message \u001b[0m=================================\n",
      "Name: ContractSearch\n",
      "\n",
      "[{\"year\": 2024, \"count\": 1}]\n",
      "==================================\u001b[1m Ai Message \u001b[0m==================================\n",
      "\n",
      "In 2024, the most contracts were signed, with a total of 1 contract.\n",
      "================================\u001b[1m Human Message \u001b[0m=================================\n",
      "\n",
      "Which party has the most active contracts?\n",
      "==================================\u001b[1m Ai Message \u001b[0m==================================\n",
      "Tool Calls:\n",
      "  ContractSearch (4c463873-1277-4fda-b626-c0107003162e)\n",
      " Call ID: 4c463873-1277-4fda-b626-c0107003162e\n",
      "  Args:\n",
      "    active: True\n",
      "    cypher_aggregation: UNWIND parties AS party WITH party, active, count(*) AS contract_count WHERE active = true RETURN party, contract_count ORDER BY contract_count DESC LIMIT 1\n",
      "=================================\u001b[1m Tool Message \u001b[0m=================================\n",
      "Name: ContractSearch\n",
      "\n",
      "[{\"party\": \"HOF Village, LLC\", \"contract_count\": 2}]\n",
      "==================================\u001b[1m Ai Message \u001b[0m==================================\n",
      "\n",
      "HOF Village, LLC has the most active contracts with a total of 2.\n"
     ]
    }
   ],
   "source": [
    "# Chat with history\n",
    "\n",
    "input_messages = messages['messages'] + [HumanMessage(content=\"Which party has the most active contracts?\")]\n",
    "messages = agent.invoke({\"messages\": input_messages})\n",
    "for m in messages[\"messages\"]:\n",
    "    m.pretty_print()"
   ]
  },
  {
   "cell_type": "code",
   "execution_count": 10,
   "id": "39593341-6bf3-4d23-8b60-75663ae2df37",
   "metadata": {},
   "outputs": [],
   "source": [
    "def get_answer(input: str) -> str:\n",
    "    input_messages = [HumanMessage(content=input)]\n",
    "    messages = agent.invoke({\"messages\": input_messages})\n",
    "    return messages[\"messages\"][-1].content"
   ]
  },
  {
   "cell_type": "code",
   "execution_count": 11,
   "id": "2bfd9c07-9500-4f93-97d0-2334b3bfec46",
   "metadata": {},
   "outputs": [
    {
     "data": {
      "text/plain": [
       "'I am Gemini, a large language model built by Google.'"
      ]
     },
     "execution_count": 11,
     "metadata": {},
     "output_type": "execute_result"
    }
   ],
   "source": [
    "get_answer(\"What's your name?\")"
   ]
  },
  {
   "cell_type": "code",
   "execution_count": 12,
   "id": "ef436794-20e4-4ea7-80a3-f0d7660a3e9a",
   "metadata": {},
   "outputs": [
    {
     "name": "stderr",
     "output_type": "stream",
     "text": [
      "Processing questions: 100%|██████████| 6/6 [00:09<00:00,  1.54s/it]\n"
     ]
    }
   ],
   "source": [
    "from tqdm import tqdm\n",
    "\n",
    "# Get workflows generated answers\n",
    "results = []\n",
    "latencies = []\n",
    "for i, row in tqdm(test_df.iterrows(), total=len(test_df), desc=\"Processing questions\"):\n",
    "    question = row['question']\n",
    "    start = time.time()\n",
    "    try:\n",
    "        data = get_answer(question)\n",
    "    except:\n",
    "        data = {\"answer\": \"timeout\", \"question\": question}\n",
    "    end = time.time()\n",
    "    latencies.append(end - start)\n",
    "    results.append(data)"
   ]
  },
  {
   "cell_type": "code",
   "execution_count": 13,
   "id": "1a45c4cf-87f5-4f8f-bdb8-1786dcb4ebdc",
   "metadata": {},
   "outputs": [],
   "source": [
    "test_df[\"latencies\"] = latencies\n",
    "test_df[\"response\"] = results\n"
   ]
  },
  {
   "cell_type": "code",
   "execution_count": 14,
   "id": "18cfb3ab-e9da-48a3-9375-c3a7d94758a7",
   "metadata": {},
   "outputs": [
    {
     "data": {
      "text/html": [
       "<div>\n",
       "<style scoped>\n",
       "    .dataframe tbody tr th:only-of-type {\n",
       "        vertical-align: middle;\n",
       "    }\n",
       "\n",
       "    .dataframe tbody tr th {\n",
       "        vertical-align: top;\n",
       "    }\n",
       "\n",
       "    .dataframe thead th {\n",
       "        text-align: right;\n",
       "    }\n",
       "</style>\n",
       "<table border=\"1\" class=\"dataframe\">\n",
       "  <thead>\n",
       "    <tr style=\"text-align: right;\">\n",
       "      <th></th>\n",
       "      <th>question</th>\n",
       "      <th>ground_truth</th>\n",
       "      <th>latencies</th>\n",
       "      <th>response</th>\n",
       "    </tr>\n",
       "  </thead>\n",
       "  <tbody>\n",
       "    <tr>\n",
       "      <th>0</th>\n",
       "      <td>What are some contracts that ended after 1990-...</td>\n",
       "      <td>There are a total of 377 contracts that ended ...</td>\n",
       "      <td>1.896093</td>\n",
       "      <td>I found 377 contracts that ended after 1990-01...</td>\n",
       "    </tr>\n",
       "    <tr>\n",
       "      <th>1</th>\n",
       "      <td>What are some contracts that ended after 1990-...</td>\n",
       "      <td>There are 48 contracts classified as \"Strategi...</td>\n",
       "      <td>2.076751</td>\n",
       "      <td>I found 48 strategic alliance contracts that e...</td>\n",
       "    </tr>\n",
       "    <tr>\n",
       "      <th>2</th>\n",
       "      <td>What are some contracts with HC2 Holdings, Inc.?</td>\n",
       "      <td>There is one contract involving HC2 Holdings, ...</td>\n",
       "      <td>1.141005</td>\n",
       "      <td>I found one strategic alliance contract for HC...</td>\n",
       "    </tr>\n",
       "    <tr>\n",
       "      <th>3</th>\n",
       "      <td>Which year was the most contracts signed?</td>\n",
       "      <td>The year with the most contracts signed was 20...</td>\n",
       "      <td>1.031179</td>\n",
       "      <td>In 2024, the most contracts were signed. The c...</td>\n",
       "    </tr>\n",
       "    <tr>\n",
       "      <th>4</th>\n",
       "      <td>Which company has the most active contracts?</td>\n",
       "      <td>The company with the most active contracts is ...</td>\n",
       "      <td>1.549473</td>\n",
       "      <td>HOF Village, LLC has the most active contracts...</td>\n",
       "    </tr>\n",
       "  </tbody>\n",
       "</table>\n",
       "</div>"
      ],
      "text/plain": [
       "                                            question  \\\n",
       "0  What are some contracts that ended after 1990-...   \n",
       "1  What are some contracts that ended after 1990-...   \n",
       "2   What are some contracts with HC2 Holdings, Inc.?   \n",
       "3          Which year was the most contracts signed?   \n",
       "4       Which company has the most active contracts?   \n",
       "\n",
       "                                        ground_truth  latencies  \\\n",
       "0  There are a total of 377 contracts that ended ...   1.896093   \n",
       "1  There are 48 contracts classified as \"Strategi...   2.076751   \n",
       "2  There is one contract involving HC2 Holdings, ...   1.141005   \n",
       "3  The year with the most contracts signed was 20...   1.031179   \n",
       "4  The company with the most active contracts is ...   1.549473   \n",
       "\n",
       "                                            response  \n",
       "0  I found 377 contracts that ended after 1990-01...  \n",
       "1  I found 48 strategic alliance contracts that e...  \n",
       "2  I found one strategic alliance contract for HC...  \n",
       "3  In 2024, the most contracts were signed. The c...  \n",
       "4  HOF Village, LLC has the most active contracts...  "
      ]
     },
     "execution_count": 14,
     "metadata": {},
     "output_type": "execute_result"
    }
   ],
   "source": [
    "test_df.head()"
   ]
  },
  {
   "cell_type": "code",
   "execution_count": 15,
   "id": "5bb38952-49b2-4575-9856-2457e3857f02",
   "metadata": {},
   "outputs": [
    {
     "data": {
      "application/vnd.jupyter.widget-view+json": {
       "model_id": "011f588090d74596ad674f6125196351",
       "version_major": 2,
       "version_minor": 0
      },
      "text/plain": [
       "Evaluating:   0%|          | 0/6 [00:00<?, ?it/s]"
      ]
     },
     "metadata": {},
     "output_type": "display_data"
    }
   ],
   "source": [
    "dataset = Dataset.from_pandas(test_df)\n",
    "\n",
    "result = evaluate(\n",
    "    dataset,\n",
    "    metrics=[\n",
    "        answer_correctness\n",
    "    ],\n",
    ")"
   ]
  },
  {
   "cell_type": "code",
   "execution_count": 16,
   "id": "e8b9ba96-4d6b-4ba5-92b6-5cf1cbc6b91e",
   "metadata": {},
   "outputs": [
    {
     "data": {
      "text/html": [
       "<div>\n",
       "<style scoped>\n",
       "    .dataframe tbody tr th:only-of-type {\n",
       "        vertical-align: middle;\n",
       "    }\n",
       "\n",
       "    .dataframe tbody tr th {\n",
       "        vertical-align: top;\n",
       "    }\n",
       "\n",
       "    .dataframe thead th {\n",
       "        text-align: right;\n",
       "    }\n",
       "</style>\n",
       "<table border=\"1\" class=\"dataframe\">\n",
       "  <thead>\n",
       "    <tr style=\"text-align: right;\">\n",
       "      <th></th>\n",
       "      <th>user_input</th>\n",
       "      <th>response</th>\n",
       "      <th>reference</th>\n",
       "      <th>answer_correctness</th>\n",
       "    </tr>\n",
       "  </thead>\n",
       "  <tbody>\n",
       "    <tr>\n",
       "      <th>0</th>\n",
       "      <td>What are some contracts that ended after 1990-...</td>\n",
       "      <td>I found 377 contracts that ended after 1990-01...</td>\n",
       "      <td>There are a total of 377 contracts that ended ...</td>\n",
       "      <td>0.516704</td>\n",
       "    </tr>\n",
       "    <tr>\n",
       "      <th>1</th>\n",
       "      <td>What are some contracts that ended after 1990-...</td>\n",
       "      <td>I found 48 strategic alliance contracts that e...</td>\n",
       "      <td>There are 48 contracts classified as \"Strategi...</td>\n",
       "      <td>0.440140</td>\n",
       "    </tr>\n",
       "    <tr>\n",
       "      <th>2</th>\n",
       "      <td>What are some contracts with HC2 Holdings, Inc.?</td>\n",
       "      <td>I found one strategic alliance contract for HC...</td>\n",
       "      <td>There is one contract involving HC2 Holdings, ...</td>\n",
       "      <td>0.992880</td>\n",
       "    </tr>\n",
       "    <tr>\n",
       "      <th>3</th>\n",
       "      <td>Which year was the most contracts signed?</td>\n",
       "      <td>In 2024, the most contracts were signed. The c...</td>\n",
       "      <td>The year with the most contracts signed was 20...</td>\n",
       "      <td>0.227758</td>\n",
       "    </tr>\n",
       "    <tr>\n",
       "      <th>4</th>\n",
       "      <td>Which company has the most active contracts?</td>\n",
       "      <td>HOF Village, LLC has the most active contracts...</td>\n",
       "      <td>The company with the most active contracts is ...</td>\n",
       "      <td>0.994188</td>\n",
       "    </tr>\n",
       "    <tr>\n",
       "      <th>5</th>\n",
       "      <td>Do we have any contracts about indemnification?</td>\n",
       "      <td>I looked for any contracts containing the word...</td>\n",
       "      <td>There are currently no contracts in our system...</td>\n",
       "      <td>0.727548</td>\n",
       "    </tr>\n",
       "  </tbody>\n",
       "</table>\n",
       "</div>"
      ],
      "text/plain": [
       "                                          user_input  \\\n",
       "0  What are some contracts that ended after 1990-...   \n",
       "1  What are some contracts that ended after 1990-...   \n",
       "2   What are some contracts with HC2 Holdings, Inc.?   \n",
       "3          Which year was the most contracts signed?   \n",
       "4       Which company has the most active contracts?   \n",
       "5    Do we have any contracts about indemnification?   \n",
       "\n",
       "                                            response  \\\n",
       "0  I found 377 contracts that ended after 1990-01...   \n",
       "1  I found 48 strategic alliance contracts that e...   \n",
       "2  I found one strategic alliance contract for HC...   \n",
       "3  In 2024, the most contracts were signed. The c...   \n",
       "4  HOF Village, LLC has the most active contracts...   \n",
       "5  I looked for any contracts containing the word...   \n",
       "\n",
       "                                           reference  answer_correctness  \n",
       "0  There are a total of 377 contracts that ended ...            0.516704  \n",
       "1  There are 48 contracts classified as \"Strategi...            0.440140  \n",
       "2  There is one contract involving HC2 Holdings, ...            0.992880  \n",
       "3  The year with the most contracts signed was 20...            0.227758  \n",
       "4  The company with the most active contracts is ...            0.994188  \n",
       "5  There are currently no contracts in our system...            0.727548  "
      ]
     },
     "execution_count": 16,
     "metadata": {},
     "output_type": "execute_result"
    }
   ],
   "source": [
    "result.to_pandas()"
   ]
  },
  {
   "cell_type": "code",
   "execution_count": null,
   "id": "d3f1e023-9dbe-4a5d-9e50-69c54aa3196e",
   "metadata": {},
   "outputs": [],
   "source": []
  }
 ],
 "metadata": {
  "kernelspec": {
   "display_name": "Python 3 (ipykernel)",
   "language": "python",
   "name": "python3"
  },
  "language_info": {
   "codemirror_mode": {
    "name": "ipython",
    "version": 3
   },
   "file_extension": ".py",
   "mimetype": "text/x-python",
   "name": "python",
   "nbconvert_exporter": "python",
   "pygments_lexer": "ipython3",
   "version": "3.11.5"
  }
 },
 "nbformat": 4,
 "nbformat_minor": 5
}
